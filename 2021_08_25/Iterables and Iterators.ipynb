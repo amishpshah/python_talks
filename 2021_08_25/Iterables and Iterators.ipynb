{
 "cells": [
  {
   "cell_type": "code",
   "execution_count": 3,
   "metadata": {},
   "outputs": [
    {
     "name": "stdout",
     "output_type": "stream",
     "text": [
      "Los Angeles\n",
      "San Francisco\n",
      "Monterey\n",
      "San Diego\n"
     ]
    }
   ],
   "source": [
    "cities = ['Los Angeles', 'San Francisco', 'Monterey', 'San Diego']\n",
    "count = len(cities)\n",
    "i = 0\n",
    "while i < count:\n",
    "    city = cities[i]\n",
    "    print(city)\n",
    "    i += 1"
   ]
  },
  {
   "cell_type": "code",
   "execution_count": 4,
   "metadata": {},
   "outputs": [
    {
     "name": "stdout",
     "output_type": "stream",
     "text": [
      "Los Angeles\n",
      "San Francisco\n",
      "Monterey\n",
      "San Diego\n"
     ]
    }
   ],
   "source": [
    "cities = ['Los Angeles', 'San Francisco', 'Monterey', 'San Diego']\n",
    "for i in range(len(cities)):\n",
    "    city = cities[i]\n",
    "    print(city)\n"
   ]
  },
  {
   "cell_type": "code",
   "execution_count": 5,
   "metadata": {},
   "outputs": [
    {
     "name": "stdout",
     "output_type": "stream",
     "text": [
      "Los Angeles\n",
      "San Francisco\n",
      "Monterey\n",
      "San Diego\n"
     ]
    }
   ],
   "source": [
    "cities = ['Los Angeles', 'San Francisco', 'Monterey', 'San Diego']\n",
    "for city in cities:\n",
    "    print(city)"
   ]
  },
  {
   "cell_type": "code",
   "execution_count": 6,
   "metadata": {},
   "outputs": [
    {
     "ename": "NameError",
     "evalue": "name 'iterable' is not defined",
     "output_type": "error",
     "traceback": [
      "\u001b[0;31m---------------------------------------------------------------------------\u001b[0m",
      "\u001b[0;31mNameError\u001b[0m                                 Traceback (most recent call last)",
      "\u001b[0;32m<ipython-input-6-9fecbb82d5fd>\u001b[0m in \u001b[0;36m<module>\u001b[0;34m\u001b[0m\n\u001b[0;32m----> 1\u001b[0;31m \u001b[0;32mfor\u001b[0m \u001b[0mname\u001b[0m \u001b[0;32min\u001b[0m \u001b[0miterable\u001b[0m\u001b[0;34m:\u001b[0m\u001b[0;34m\u001b[0m\u001b[0;34m\u001b[0m\u001b[0m\n\u001b[0m\u001b[1;32m      2\u001b[0m     \u001b[0mstatements\u001b[0m\u001b[0;34m\u001b[0m\u001b[0;34m\u001b[0m\u001b[0m\n",
      "\u001b[0;31mNameError\u001b[0m: name 'iterable' is not defined"
     ]
    }
   ],
   "source": [
    "for name in iterable:\n",
    "    statements"
   ]
  },
  {
   "cell_type": "code",
   "execution_count": 7,
   "metadata": {},
   "outputs": [
    {
     "data": {
      "text/plain": [
       "['__add__',\n",
       " '__class__',\n",
       " '__contains__',\n",
       " '__delattr__',\n",
       " '__delitem__',\n",
       " '__dir__',\n",
       " '__doc__',\n",
       " '__eq__',\n",
       " '__format__',\n",
       " '__ge__',\n",
       " '__getattribute__',\n",
       " '__getitem__',\n",
       " '__gt__',\n",
       " '__hash__',\n",
       " '__iadd__',\n",
       " '__imul__',\n",
       " '__init__',\n",
       " '__init_subclass__',\n",
       " '__iter__',\n",
       " '__le__',\n",
       " '__len__',\n",
       " '__lt__',\n",
       " '__mul__',\n",
       " '__ne__',\n",
       " '__new__',\n",
       " '__reduce__',\n",
       " '__reduce_ex__',\n",
       " '__repr__',\n",
       " '__reversed__',\n",
       " '__rmul__',\n",
       " '__setattr__',\n",
       " '__setitem__',\n",
       " '__sizeof__',\n",
       " '__str__',\n",
       " '__subclasshook__',\n",
       " 'append',\n",
       " 'clear',\n",
       " 'copy',\n",
       " 'count',\n",
       " 'extend',\n",
       " 'index',\n",
       " 'insert',\n",
       " 'pop',\n",
       " 'remove',\n",
       " 'reverse',\n",
       " 'sort']"
      ]
     },
     "execution_count": 7,
     "metadata": {},
     "output_type": "execute_result"
    }
   ],
   "source": [
    "cities = ['Los Angeles', 'San Francisco', 'Monterey', 'San Diego']\n",
    "dir(cities)"
   ]
  },
  {
   "cell_type": "code",
   "execution_count": 8,
   "metadata": {},
   "outputs": [
    {
     "data": {
      "text/plain": [
       "['__class__',\n",
       " '__delattr__',\n",
       " '__dir__',\n",
       " '__doc__',\n",
       " '__eq__',\n",
       " '__format__',\n",
       " '__ge__',\n",
       " '__getattribute__',\n",
       " '__gt__',\n",
       " '__hash__',\n",
       " '__init__',\n",
       " '__init_subclass__',\n",
       " '__iter__',\n",
       " '__le__',\n",
       " '__length_hint__',\n",
       " '__lt__',\n",
       " '__ne__',\n",
       " '__new__',\n",
       " '__next__',\n",
       " '__reduce__',\n",
       " '__reduce_ex__',\n",
       " '__repr__',\n",
       " '__setattr__',\n",
       " '__setstate__',\n",
       " '__sizeof__',\n",
       " '__str__',\n",
       " '__subclasshook__']"
      ]
     },
     "execution_count": 8,
     "metadata": {},
     "output_type": "execute_result"
    }
   ],
   "source": [
    "cities = ['Los Angeles', 'San Francisco', 'Monterey', 'San Diego']\n",
    "it = iter(cities)\n",
    "dir(it)"
   ]
  },
  {
   "cell_type": "code",
   "execution_count": 12,
   "metadata": {},
   "outputs": [
    {
     "name": "stdout",
     "output_type": "stream",
     "text": [
      "Sacramento\n",
      "Phoenix\n",
      "Salem\n",
      "Olympia\n"
     ]
    }
   ],
   "source": [
    "for name in ['Sacramento', 'Phoenix', 'Salem', 'Olympia']:\n",
    "  print(name)"
   ]
  },
  {
   "cell_type": "code",
   "execution_count": 11,
   "metadata": {},
   "outputs": [
    {
     "name": "stdout",
     "output_type": "stream",
     "text": [
      "S\n",
      "a\n",
      "c\n",
      "r\n",
      "a\n",
      "m\n",
      "e\n",
      "n\n",
      "t\n",
      "o\n"
     ]
    }
   ],
   "source": [
    "for ch in 'Sacramento':\n",
    "    print(ch)"
   ]
  },
  {
   "cell_type": "code",
   "execution_count": 15,
   "metadata": {},
   "outputs": [
    {
     "name": "stdout",
     "output_type": "stream",
     "text": [
      "California\n",
      "Oregon\n",
      "Arizona\n"
     ]
    }
   ],
   "source": [
    "states = {'California': 'Sacramento', 'Oregon':'Salem', 'Arizona':'Phoenix'}\n",
    "for key in states:\n",
    "    print(key)"
   ]
  },
  {
   "cell_type": "code",
   "execution_count": 19,
   "metadata": {},
   "outputs": [
    {
     "name": "stdout",
     "output_type": "stream",
     "text": [
      "California\n",
      "Oregon\n",
      "Arizona\n",
      "Sacramento\n",
      "Salem\n",
      "Phoenix\n",
      "California Sacramento\n",
      "Oregon Salem\n",
      "Arizona Phoenix\n"
     ]
    }
   ],
   "source": [
    "for key in states.keys():\n",
    "    print(key)\n",
    "for value in states.values():\n",
    "    print(value)\n",
    "for key, value in states.items():\n",
    "    print(key, value)"
   ]
  },
  {
   "cell_type": "code",
   "execution_count": 24,
   "metadata": {},
   "outputs": [
    {
     "name": "stdout",
     "output_type": "stream",
     "text": [
      "California\n",
      "Oregon\n",
      "Arizona\n"
     ]
    }
   ],
   "source": [
    "states = ('California', 'Oregon','Arizona')\n",
    "for state in states:\n",
    "    print(state)"
   ]
  },
  {
   "cell_type": "code",
   "execution_count": 30,
   "metadata": {},
   "outputs": [
    {
     "name": "stdout",
     "output_type": "stream",
     "text": [
      "'We the People of the United States, in Order to form a more perfect Union, establish Justice, insure domestic Tranquility, provide for the common defence, promote the general Welfare, and secure the Blessings of Liberty to ourselves and our Posterity, do ordain and establish this Constitution for the United States of America.\\n'\n",
      "'Article. I.\\n'\n",
      "'Section. 1.\\n'\n",
      "'All legislative Powers herein granted shall be vested in a Congress of the United States, which shall consist of a Senate and House of Representatives.\\n'\n",
      "'Section. 2.\\n'\n",
      "'The House of Representatives shall be composed of Members chosen every second Year by the People of the several States, and the Electors in each State shall have the Qualifications requisite for Electors of the most numerous Branch of the State Legislature.\\n'\n",
      "'No Person shall be a Representative who shall not have attained to the Age of twenty five Years, and been seven Years a Citizen of the United States, and who shall not, when elected, be an Inhabitant of that State in which he shall be chosen.\\n'\n",
      "'Representatives and direct Taxes shall be apportioned among the several States which may be included within this Union, according to their respective Numbers, which shall be determined by adding to the whole Number of free Persons, including those bound to Service for a Term of Years, and excluding Indians not taxed, three fifths of all other Persons. \\n'\n",
      "'The actual Enumeration shall be made within three Years after the first Meeting of the Congress of the United States, and within every subsequent Term of ten Years, in such Manner as they shall by Law direct. \\n'\n",
      "'The Number of Representatives shall not exceed one for every thirty Thousand, but each State shall have at Least one Representative; and until such enumeration shall be made, the State of New Hampshire shall be entitled to chuse three, Massachusetts eight, Rhode-Island and Providence Plantations one, Connecticut five, New-York six, New Jersey four, Pennsylvania eight, Delaware one, Maryland six, Virginia ten, North Carolina five, South Carolina five, and Georgia three.\\n'\n",
      "'When vacancies happen in the Representation from any State, the Executive Authority thereof shall issue Writs of Election to fill such Vacancies.\\n'\n",
      "'The House of Representatives shall chuse their Speaker and other Officers; and shall have the sole Power of Impeachment.\\n'\n",
      "'\\n'\n"
     ]
    }
   ],
   "source": [
    "with open('/Users/amishshah/constitution.txt') as file:\n",
    "    for line in file:\n",
    "        print(repr(line))"
   ]
  },
  {
   "cell_type": "code",
   "execution_count": 32,
   "metadata": {},
   "outputs": [
    {
     "name": "stdout",
     "output_type": "stream",
     "text": [
      "<DirEntry 'untitled folder'>\n",
      "<DirEntry 'TriNet Platform _ Benefits - Overview.pdf'>\n",
      "<DirEntry '.eclipse'>\n",
      "<DirEntry '.config'>\n",
      "<DirEntry 'Music'>\n",
      "<DirEntry 'Taxes 2019'>\n",
      "<DirEntry 'evaluator'>\n",
      "<DirEntry '.docker'>\n",
      "<DirEntry 'constitution.txt'>\n",
      "<DirEntry 'National-Day-of-Service-Social-Media-Guide.pdf'>\n",
      "<DirEntry 'go'>\n",
      "<DirEntry '.DS_Store'>\n",
      "<DirEntry 'eclipse'>\n",
      "<DirEntry '.CFUserTextEncoding'>\n",
      "<DirEntry 'javasharedresources'>\n",
      "<DirEntry 'Capital One1.pdf'>\n",
      "<DirEntry '.tooling'>\n",
      "<DirEntry 'IDrive-Sync'>\n",
      "<DirEntry '.remoteit'>\n",
      "<DirEntry '.bashrc'>\n",
      "<DirEntry 'mortgage1928.pdf'>\n",
      "<DirEntry 'Untitled.ipynb'>\n",
      "<DirEntry '.zshrc'>\n",
      "<DirEntry 'Print Form from Ravenna.pdf'>\n",
      "<DirEntry 'Capital One.pdf'>\n",
      "<DirEntry 'IDrive Downloads'>\n",
      "<DirEntry '.dotty_history'>\n",
      "<DirEntry 'Pictures'>\n",
      "<DirEntry 'workspace'>\n",
      "<DirEntry 'ClickAway.pdf'>\n",
      "<DirEntry '.p2'>\n",
      "<DirEntry '.ipython'>\n",
      "<DirEntry 'Desktop'>\n",
      "<DirEntry 'Library'>\n",
      "<DirEntry 'Amazon.com - Order 113-7507842-9069807.pdf'>\n",
      "<DirEntry 'release'>\n",
      "<DirEntry '.matplotlib'>\n",
      "<DirEntry 'the-hidden-oracle-rick-riordan.pdf'>\n",
      "<DirEntry 'CostcoLaptopOrder.pdf'>\n",
      "<DirEntry '.sdkman'>\n",
      "<DirEntry 'kind'>\n",
      "<DirEntry '.bash_profile.pysave'>\n",
      "<DirEntry '.minikube'>\n",
      "<DirEntry '.octave_hist'>\n",
      "<DirEntry '.cups'>\n",
      "<DirEntry '.bash_sessions'>\n",
      "<DirEntry 'Google Drive'>\n",
      "<DirEntry 'Amish Shah _ LinkedIn.pdf'>\n",
      "<DirEntry 'S.htm'>\n",
      "<DirEntry 'Public'>\n",
      "<DirEntry 'getting-started'>\n",
      "<DirEntry '.idlerc'>\n",
      "<DirEntry '.kube'>\n",
      "<DirEntry '.ssh'>\n",
      "<DirEntry 'Movies'>\n",
      "<DirEntry 'Applications'>\n",
      "<DirEntry 'Payslip_to_Print_10_27_2020.pdf'>\n",
      "<DirEntry 'cassandra_ER.pdf'>\n",
      "<DirEntry '92.Data+Engineering_2-1614270590423.pdf'>\n",
      "<DirEntry 'goingtoindia'>\n",
      "<DirEntry '.Trash'>\n",
      "<DirEntry 'coding'>\n",
      "<DirEntry 'Hyundai 2021 Vehicle Registration.pdf'>\n",
      "<DirEntry '.ipynb_checkpoints'>\n",
      "<DirEntry '392950280.pdf'>\n",
      "<DirEntry '.jupyter'>\n",
      "<DirEntry '.npm'>\n",
      "<DirEntry 'Documents'>\n",
      "<DirEntry '.pyenv'>\n",
      "<DirEntry 'SCC Tax-12-2020.pdf'>\n",
      "<DirEntry 'toastmaster-speech1'>\n",
      "<DirEntry 'kubernetes'>\n",
      "<DirEntry '.bash_profile'>\n",
      "<DirEntry 'Cancel Policy.pdf'>\n",
      "<DirEntry 'Downloads'>\n",
      "<DirEntry '.python_history'>\n",
      "<DirEntry '.cache'>\n",
      "<DirEntry 'Valley Christian Schools - San Jose - Jan 2020.pdf'>\n",
      "<DirEntry 'PDF-CaliforniaHospitals2013.pdf'>\n",
      "<DirEntry 'sagemaker_detection'>\n",
      "<DirEntry 'Hotel Reservation Confirmation.pdf'>\n",
      "<DirEntry '.mongorc.js'>\n",
      "<DirEntry '.bash_history'>\n",
      "<DirEntry 'ClickAway Invoice# 552030.pdf'>\n",
      "<DirEntry '.viminfo'>\n"
     ]
    }
   ],
   "source": [
    "from os import scandir\n",
    "for file in scandir('.'):\n",
    "    print(file)\n"
   ]
  },
  {
   "cell_type": "code",
   "execution_count": 36,
   "metadata": {},
   "outputs": [
    {
     "name": "stdout",
     "output_type": "stream",
     "text": [
      "<re.Match object; span=(0, 2), match='12'>\n",
      "<re.Match object; span=(22, 24), match='11'>\n",
      "<re.Match object; span=(29, 31), match='10'>\n"
     ]
    }
   ],
   "source": [
    "import re\n",
    "p = re.compile(r'\\d+')\n",
    "for match in p.finditer('12 drummers drumming, 11 ... 10 ...'):\n",
    "    print(match)"
   ]
  },
  {
   "cell_type": "code",
   "execution_count": 40,
   "metadata": {},
   "outputs": [
    {
     "name": "stdout",
     "output_type": "stream",
     "text": [
      "10\n",
      "10\n",
      "10\n"
     ]
    }
   ],
   "source": [
    "from itertools import count, cycle, repeat\n",
    "for i in count(10):\n",
    "    print(i)   # 10 11 12 13 14 15 ....\n",
    "for i in cycle('ABCDEF'):\n",
    "    print(i)   # A B C D E F A B C D E F ...\n",
    "for i in repeat(10, 3):\n",
    "    print(i)    # 10 10 10"
   ]
  },
  {
   "cell_type": "code",
   "execution_count": 42,
   "metadata": {},
   "outputs": [
    {
     "name": "stdout",
     "output_type": "stream",
     "text": [
      "1\n",
      "3\n",
      "6\n",
      "10\n",
      "15\n",
      "1\n",
      "2\n",
      "3\n",
      "4\n",
      "5\n",
      "10\n",
      "11\n",
      "12\n",
      "13\n",
      "14\n"
     ]
    }
   ],
   "source": [
    "from itertools import accumulate, chain\n",
    "for i in accumulate([1, 2, 3, 4, 5]):\n",
    "    print(i) # 1 3 6 10 15\n",
    "for i in chain([1, 2, 3, 4, 5], [10, 11, 12, 13, 14]):\n",
    "    print(i) # 1 2 3 4 5 10 11 12 13 14"
   ]
  },
  {
   "cell_type": "code",
   "execution_count": 46,
   "metadata": {},
   "outputs": [
    {
     "name": "stdout",
     "output_type": "stream",
     "text": [
      "1\n",
      "4\n",
      "9\n",
      "16\n",
      "25\n",
      "36\n",
      "49\n",
      "64\n",
      "36\n",
      "1\n",
      "8\n"
     ]
    }
   ],
   "source": [
    "numbers = [1, 2, 3, 4, 5, 6, 7, 8]\n",
    "for product in [number*number for number in numbers]:\n",
    "    print(product) # 1 4 9 16 25 36 49 64\n",
    "print(sum(numbers)) #36\n",
    "print(min(numbers)) # 1\n",
    "print(max(numbers))# 8"
   ]
  },
  {
   "cell_type": "code",
   "execution_count": 47,
   "metadata": {},
   "outputs": [
    {
     "name": "stdout",
     "output_type": "stream",
     "text": [
      "0 Los Angeles\n",
      "1 San Francisco\n",
      "2 Monterey\n",
      "3 San Diego\n"
     ]
    }
   ],
   "source": [
    "cities = ['Los Angeles', 'San Francisco', 'Monterey', 'San Diego']\n",
    "for i, city in enumerate(cities):\n",
    "    print(i, city)"
   ]
  },
  {
   "cell_type": "code",
   "execution_count": 49,
   "metadata": {},
   "outputs": [
    {
     "name": "stdout",
     "output_type": "stream",
     "text": [
      "0 'We the People of the United States, in Order to form a more perfect Union, establish Justice, insure domestic Tranquility, provide for the common defence, promote the general Welfare, and secure the Blessings of Liberty to ourselves and our Posterity, do ordain and establish this Constitution for the United States of America.\\n'\n",
      "1 'Article. I.\\n'\n",
      "2 'Section. 1.\\n'\n",
      "3 'All legislative Powers herein granted shall be vested in a Congress of the United States, which shall consist of a Senate and House of Representatives.\\n'\n",
      "4 'Section. 2.\\n'\n",
      "5 'The House of Representatives shall be composed of Members chosen every second Year by the People of the several States, and the Electors in each State shall have the Qualifications requisite for Electors of the most numerous Branch of the State Legislature.\\n'\n",
      "6 'No Person shall be a Representative who shall not have attained to the Age of twenty five Years, and been seven Years a Citizen of the United States, and who shall not, when elected, be an Inhabitant of that State in which he shall be chosen.\\n'\n",
      "7 'Representatives and direct Taxes shall be apportioned among the several States which may be included within this Union, according to their respective Numbers, which shall be determined by adding to the whole Number of free Persons, including those bound to Service for a Term of Years, and excluding Indians not taxed, three fifths of all other Persons. \\n'\n",
      "8 'The actual Enumeration shall be made within three Years after the first Meeting of the Congress of the United States, and within every subsequent Term of ten Years, in such Manner as they shall by Law direct. \\n'\n",
      "9 'The Number of Representatives shall not exceed one for every thirty Thousand, but each State shall have at Least one Representative; and until such enumeration shall be made, the State of New Hampshire shall be entitled to chuse three, Massachusetts eight, Rhode-Island and Providence Plantations one, Connecticut five, New-York six, New Jersey four, Pennsylvania eight, Delaware one, Maryland six, Virginia ten, North Carolina five, South Carolina five, and Georgia three.\\n'\n",
      "10 'When vacancies happen in the Representation from any State, the Executive Authority thereof shall issue Writs of Election to fill such Vacancies.\\n'\n",
      "11 'The House of Representatives shall chuse their Speaker and other Officers; and shall have the sole Power of Impeachment.\\n'\n",
      "12 '\\n'\n"
     ]
    }
   ],
   "source": [
    "with open('/Users/amishshah/constitution.txt') as file:\n",
    "    for lineno, line in enumerate(file):\n",
    "        print(lineno, repr(line))"
   ]
  },
  {
   "cell_type": "code",
   "execution_count": 51,
   "metadata": {},
   "outputs": [
    {
     "name": "stdout",
     "output_type": "stream",
     "text": [
      "California Sacramento\n",
      "Oregon Salem\n",
      "Arizona Phoenix\n"
     ]
    }
   ],
   "source": [
    "states = ['California', 'Oregon', 'Arizona']\n",
    "capitals = ['Sacramento', 'Salem', 'Phoenix']\n",
    "for state, capital in zip(states, capitals):\n",
    "    print(state, capital)"
   ]
  },
  {
   "cell_type": "code",
   "execution_count": 55,
   "metadata": {},
   "outputs": [
    {
     "name": "stdout",
     "output_type": "stream",
     "text": [
      "4 over\n",
      "4 lazy\n"
     ]
    }
   ],
   "source": [
    "sentence = \"The quick brown fox jumps over the lazy dog\"\n",
    "for word in sentence.split():\n",
    "    if len(word)%2 == 0:\n",
    "        print(len(word), word)"
   ]
  },
  {
   "cell_type": "code",
   "execution_count": 56,
   "metadata": {},
   "outputs": [
    {
     "name": "stdout",
     "output_type": "stream",
     "text": [
      "4 over\n",
      "4 lazy\n"
     ]
    }
   ],
   "source": [
    "def get_words_with_even_chs (sentence):\n",
    "    for word in sentence.split():\n",
    "        if len(word)%2 == 0:\n",
    "            yield word\n",
    "\n",
    "words = get_words_with_even_chs(sentence)\n",
    "for word in words:\n",
    "    print(len(word), word)"
   ]
  },
  {
   "cell_type": "code",
   "execution_count": 64,
   "metadata": {},
   "outputs": [
    {
     "name": "stdout",
     "output_type": "stream",
     "text": [
      "1\n",
      "2\n",
      "3\n",
      "4\n"
     ]
    }
   ],
   "source": [
    "class MyRange:\n",
    "    def __init__ (self, start, end):\n",
    "        self.value = start\n",
    "        self.end = end\n",
    "        \n",
    "    def __iter__(self):\n",
    "        return self\n",
    "    \n",
    "    def __next__(self):\n",
    "        if self.value >= self.end:\n",
    "            raise StopIteration\n",
    "        value = self.value\n",
    "        self.value += 1\n",
    "        return value\n",
    "    \n",
    "it = iter(MyRange(1, 5))\n",
    "print(next(it))\n",
    "print(next(it))\n",
    "print(next(it))\n",
    "print(next(it))"
   ]
  },
  {
   "cell_type": "code",
   "execution_count": 65,
   "metadata": {},
   "outputs": [
    {
     "ename": "StopIteration",
     "evalue": "",
     "output_type": "error",
     "traceback": [
      "\u001b[0;31m---------------------------------------------------------------------------\u001b[0m",
      "\u001b[0;31mStopIteration\u001b[0m                             Traceback (most recent call last)",
      "\u001b[0;32m<ipython-input-65-4d0222393be1>\u001b[0m in \u001b[0;36m<module>\u001b[0;34m\u001b[0m\n\u001b[0;32m----> 1\u001b[0;31m \u001b[0mprint\u001b[0m\u001b[0;34m(\u001b[0m\u001b[0mnext\u001b[0m\u001b[0;34m(\u001b[0m\u001b[0mit\u001b[0m\u001b[0;34m)\u001b[0m\u001b[0;34m)\u001b[0m\u001b[0;34m\u001b[0m\u001b[0;34m\u001b[0m\u001b[0m\n\u001b[0m",
      "\u001b[0;32m<ipython-input-64-eacba6e37edc>\u001b[0m in \u001b[0;36m__next__\u001b[0;34m(self)\u001b[0m\n\u001b[1;32m      9\u001b[0m     \u001b[0;32mdef\u001b[0m \u001b[0m__next__\u001b[0m\u001b[0;34m(\u001b[0m\u001b[0mself\u001b[0m\u001b[0;34m)\u001b[0m\u001b[0;34m:\u001b[0m\u001b[0;34m\u001b[0m\u001b[0;34m\u001b[0m\u001b[0m\n\u001b[1;32m     10\u001b[0m         \u001b[0;32mif\u001b[0m \u001b[0mself\u001b[0m\u001b[0;34m.\u001b[0m\u001b[0mvalue\u001b[0m \u001b[0;34m>=\u001b[0m \u001b[0mself\u001b[0m\u001b[0;34m.\u001b[0m\u001b[0mend\u001b[0m\u001b[0;34m:\u001b[0m\u001b[0;34m\u001b[0m\u001b[0;34m\u001b[0m\u001b[0m\n\u001b[0;32m---> 11\u001b[0;31m             \u001b[0;32mraise\u001b[0m \u001b[0mStopIteration\u001b[0m\u001b[0;34m\u001b[0m\u001b[0;34m\u001b[0m\u001b[0m\n\u001b[0m\u001b[1;32m     12\u001b[0m         \u001b[0mvalue\u001b[0m \u001b[0;34m=\u001b[0m \u001b[0mself\u001b[0m\u001b[0;34m.\u001b[0m\u001b[0mvalue\u001b[0m\u001b[0;34m\u001b[0m\u001b[0;34m\u001b[0m\u001b[0m\n\u001b[1;32m     13\u001b[0m         \u001b[0mself\u001b[0m\u001b[0;34m.\u001b[0m\u001b[0mvalue\u001b[0m \u001b[0;34m+=\u001b[0m \u001b[0;36m1\u001b[0m\u001b[0;34m\u001b[0m\u001b[0;34m\u001b[0m\u001b[0m\n",
      "\u001b[0;31mStopIteration\u001b[0m: "
     ]
    }
   ],
   "source": [
    "print(next(it))"
   ]
  },
  {
   "cell_type": "code",
   "execution_count": null,
   "metadata": {},
   "outputs": [],
   "source": []
  }
 ],
 "metadata": {
  "kernelspec": {
   "display_name": "Python 3",
   "language": "python",
   "name": "python3"
  },
  "language_info": {
   "codemirror_mode": {
    "name": "ipython",
    "version": 3
   },
   "file_extension": ".py",
   "mimetype": "text/x-python",
   "name": "python",
   "nbconvert_exporter": "python",
   "pygments_lexer": "ipython3",
   "version": "3.8.5"
  }
 },
 "nbformat": 4,
 "nbformat_minor": 4
}
